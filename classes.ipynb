{
 "cells": [
  {
   "cell_type": "markdown",
   "id": "isolated-catholic",
   "metadata": {},
   "source": [
    "# Classes"
   ]
  },
  {
   "cell_type": "code",
   "execution_count": 3,
   "id": "6951dd59",
   "metadata": {},
   "outputs": [
    {
     "data": {
      "text/plain": [
       "34"
      ]
     },
     "execution_count": 3,
     "metadata": {},
     "output_type": "execute_result"
    }
   ],
   "source": [
    "class Person:\n",
    "    \"\"\"\n",
    "    This is a class to represent every person.\n",
    "    Attributes:\n",
    "    - name\n",
    "    - age\n",
    "    Methods:\n",
    "    - intdouce()\n",
    "    \"\"\"\n",
    "    \n",
    "    def __init__(self, person_name, person_age):\n",
    "        \"\"\"\n",
    "        This is a method...\n",
    "        \"\"\"\n",
    "        self.name = person_name\n",
    "        self.age = person_age\n",
    "        \n",
    "    def __str__(self):\n",
    "        return f\"This is {self.name}. I am {self.age} years old\"\n",
    "    \n",
    "\n",
    "p1 = Person(\"John\", 34)\n",
    "p2 = Person(\"Alice\", 33)\n",
    "\n",
    "p1.age"
   ]
  },
  {
   "cell_type": "markdown",
   "id": "valuable-coupon",
   "metadata": {},
   "source": [
    "## Student Class\n",
    "Define a student class with the followings:\n",
    "- A `first_name` attribute.\n",
    "- A `last_name` attribute.\n",
    "- An `id` attribute.\n",
    "- A `courses` attribute that stores all passed courses and their marks in a dictionary.\n",
    "- An `__init__` method.\n",
    "- A `__str__` method.\n",
    "- A `get_gpa` method.\n",
    "- A `set_course_mark` method."
   ]
  },
  {
   "cell_type": "code",
   "execution_count": 7,
   "id": "according-purse",
   "metadata": {},
   "outputs": [
    {
     "name": "stdout",
     "output_type": "stream",
     "text": [
      "Hello this is John Doe. My id is 111\n"
     ]
    },
    {
     "data": {
      "text/plain": [
       "75.0"
      ]
     },
     "execution_count": 7,
     "metadata": {},
     "output_type": "execute_result"
    }
   ],
   "source": [
    "class Student:\n",
    "    \"\"\"\n",
    "    This is a class to represent every student.\n",
    "    Attributes:\n",
    "    - ...\n",
    "    Methods: \n",
    "    - ...\n",
    "    \"\"\"\n",
    "    \n",
    "    def __init__(self, fname, lname, number):\n",
    "        \"\"\"\n",
    "        This the constructor method...\n",
    "        \"\"\"\n",
    "        self.first_name = fname\n",
    "        self.last_name = lname\n",
    "        self.number = number\n",
    "        self.courses = {}\n",
    "    \n",
    "    def __str__(self):\n",
    "        \"\"\"\n",
    "        This a method...\n",
    "        \"\"\"\n",
    "        return \"Hello this is \" + self.first_name + \" \" + self.last_name + \". My id is {}\".format(self.number) \n",
    "    \n",
    "    def set_course_mark(self, course_name, course_mark):\n",
    "        \"\"\"\n",
    "        This is a method to ...\n",
    "        \"\"\"\n",
    "        self.courses[course_name] = course_mark\n",
    "        \n",
    "    def get_gpa(self):\n",
    "        \"\"\"\n",
    "        This is a method...\n",
    "        \"\"\"\n",
    "        return sum(self.courses.values()) / len(self.courses)\n",
    "\n",
    "\n",
    "\n",
    "s1 = Student(\"John\", \"Doe\", 111)\n",
    "s1.set_course_mark(\"Python\", 70)\n",
    "s1.set_course_mark(\"ML\", 80)\n",
    "gpa = s1.get_gpa()\n",
    "\n",
    "print(s1)\n",
    "gpa\n",
    "\n",
    "\n",
    "\n",
    "\n"
   ]
  },
  {
   "cell_type": "markdown",
   "id": "palestinian-expert",
   "metadata": {},
   "source": [
    "## University Class\n",
    "Define a university class with the followings:\n",
    "- A `name` attribute.\n",
    "- A `students` attribute that stores a list of **student objects**.\n",
    "- An `__init__` method.\n",
    "- A `__str__` method.\n",
    "- A `register_student` method.\n",
    "- A `graduate_student` method."
   ]
  },
  {
   "cell_type": "code",
   "execution_count": 12,
   "id": "going-custom",
   "metadata": {},
   "outputs": [
    {
     "name": "stdout",
     "output_type": "stream",
     "text": [
      "This is GISMA university. We have 0 students.\n",
      "This is GISMA university. We have 2 students.\n",
      "This is GISMA university. We have 1 students.\n"
     ]
    },
    {
     "data": {
      "text/plain": [
       "'GISMA'"
      ]
     },
     "execution_count": 12,
     "metadata": {},
     "output_type": "execute_result"
    }
   ],
   "source": [
    "class University:\n",
    "    \"\"\"\n",
    "    This is a class to represent our universities.\n",
    "    Attributes:\n",
    "    \n",
    "    Methods:\n",
    "    \n",
    "    \n",
    "    \"\"\"\n",
    "    def __init__(self, uni_name):\n",
    "        \"\"\"\n",
    "        This is a constructor...\n",
    "        \"\"\"\n",
    "        self.name = uni_name\n",
    "        self.students = []\n",
    "        \n",
    "    def register_studnet(self, student_object):\n",
    "        \"\"\"\n",
    "        bla bla\n",
    "        \"\"\"\n",
    "        self.students.append(student_object)\n",
    "    \n",
    "    def __str__(self):\n",
    "        \"\"\"\n",
    "        bla bla\n",
    "        \"\"\"\n",
    "        return \"This is {} university. We have {} students.\".format(self.name, len(self.students))\n",
    "    \n",
    "    def gradute_student(self, student_id):\n",
    "        \"\"\"\n",
    "        This ...\n",
    "        \"\"\"\n",
    "        new_students = []\n",
    "        for s in self.students:\n",
    "            if s.number != student_id:\n",
    "                new_students.append(s)\n",
    "        self.students = new_students\n",
    "        \n",
    "\n",
    "        \n",
    "u1 = University(\"GISMA\")\n",
    "print(u1)\n",
    "\n",
    "\n",
    "s2 = Student(\"Alice\", \"Awsome\", 222)\n",
    "\n",
    "u1.register_studnet(s1)\n",
    "u1.register_studnet(s2)\n",
    "\n",
    "print(u1)\n",
    "u1.gradute_student(111)\n",
    "print(u1)\n",
    "u1.name"
   ]
  },
  {
   "cell_type": "code",
   "execution_count": null,
   "id": "8745b331",
   "metadata": {},
   "outputs": [],
   "source": []
  }
 ],
 "metadata": {
  "kernelspec": {
   "display_name": "Python 3 (ipykernel)",
   "language": "python",
   "name": "python3"
  },
  "language_info": {
   "codemirror_mode": {
    "name": "ipython",
    "version": 3
   },
   "file_extension": ".py",
   "mimetype": "text/x-python",
   "name": "python",
   "nbconvert_exporter": "python",
   "pygments_lexer": "ipython3",
   "version": "3.8.12"
  }
 },
 "nbformat": 4,
 "nbformat_minor": 5
}
